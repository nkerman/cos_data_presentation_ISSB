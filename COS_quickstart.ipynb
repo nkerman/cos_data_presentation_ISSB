{
 "cells": [
  {
   "cell_type": "markdown",
   "metadata": {},
   "source": [
    "# A Very Intro Guide to COS Data"
   ]
  },
  {
   "cell_type": "code",
   "execution_count": null,
   "metadata": {},
   "outputs": [],
   "source": [
    "# Import the necessary libraries\n",
    "from astroquery.mast import Observations # For actually searching and downloading\n",
    "from pathlib import Path # Handling system paths\n",
    "# For reading and editing fits astropy table format files\n",
    "from astropy.table import Table\n",
    "# For reading and editing general fits files\n",
    "from astropy.io import fits\n",
    "# For dealing with units and unit conversions\n",
    "from astropy import units as u\n",
    "# Plotting\n",
    "import matplotlib.pyplot as plt\n",
    "%matplotlib inline\n",
    "import plotly.express as px\n",
    "import plotly.graph_objects as go"
   ]
  },
  {
   "cell_type": "markdown",
   "metadata": {},
   "source": [
    "## Start by downloading some data\n",
    "* FUV\n",
    "  * Proposal 15366\n",
    "  * *Andy might recognize this proposal as his COS LP4 Spectral Resolution Program!*\n",
    "* NUV\n",
    "  * Picked at random"
   ]
  },
  {
   "cell_type": "markdown",
   "metadata": {},
   "source": [
    "### We begin by downloading the final spectrum product (`X1DSUM`) of an FUV observation."
   ]
  },
  {
   "cell_type": "code",
   "execution_count": null,
   "metadata": {},
   "outputs": [],
   "source": [
    "# Download an example FUV dataset using astroquery:\n",
    "## Find all the observations from a single HST Proposal\n",
    "obs_from_proposal = Observations.query_criteria(\n",
    "    proposal_id=\"15366\" # The Proposal ID of the observations to download\n",
    ")\n",
    "## Find all the data products for these observations\n",
    "products_from_proposal = Observations.get_product_list(\n",
    "    obs_from_proposal\n",
    ")\n",
    "print(f\"Found {len(products_from_proposal)} total data products\")\n",
    "## Filter to a specific subset, i.e. of filetypes\n",
    "products_to_download = Observations.filter_products(\n",
    "    products_from_proposal,\n",
    "    productSubGroupDescription=[\"X1DSUM\",\"ASN\"] # Filters to only the X1DSUM and ASN files\n",
    ")\n",
    "# Download the FUV products\n",
    "download_table = Observations.download_products(products_to_download)\n",
    "# Make a list of the local paths, aggregated by type of file\n",
    "fuv_x1dsum_products = [Path(local_path) for local_path in download_table[\"Local Path\"] if \"x1dsum\" in local_path]\n",
    "fuv_asn_products = [Path(local_path) for local_path in download_table[\"Local Path\"] if \"asn\" in local_path]\n",
    "print(\"FUV X1DSUM Files: \\n\", fuv_x1dsum_products, \"\\nFUV ASN Files: \\n\", fuv_asn_products)"
   ]
  },
  {
   "cell_type": "markdown",
   "metadata": {},
   "source": [
    "### We also want to download an example of the raw data (`RAWTAG`), and the intermediate data step (`CORRTAG`)\n",
    "\n",
    "Note that we're just condensing the above functions into a more compact form. It's the same content as above.\n",
    "\n",
    "Also note, this is not all the data which went into the final products downloaded above. It corresponds to a single exposure on a single segment of the FUV detector."
   ]
  },
  {
   "cell_type": "code",
   "execution_count": null,
   "metadata": {},
   "outputs": [],
   "source": [
    "rawtag_a = Path(Observations.download_products(\n",
    "    Observations.filter_products(\n",
    "        Observations.get_product_list(\n",
    "            Observations.query_criteria(\n",
    "                proposal_id=\"15366\"\n",
    "            )\n",
    "        ),\n",
    "        productSubGroupDescription=[\"RAWTAG_A\"]\n",
    "    )[0]\n",
    ")[\"Local Path\"][0])\n",
    "\n",
    "corrtag_a = Path(Observations.download_products(\n",
    "    Observations.filter_products(\n",
    "        Observations.get_product_list(\n",
    "            Observations.query_criteria(\n",
    "                proposal_id=\"15366\"\n",
    "            )\n",
    "        ),\n",
    "        productSubGroupDescription=[\"CORRTAG_A\"]\n",
    "    )[0]\n",
    ")[\"Local Path\"][0])\n",
    "\n",
    "print(f\"\\n\\nRaw TIME-TAG data from segment A in: {rawtag_a}\")\n",
    "print(f\"Corrected TIME-TAG data from segment A in: {corrtag_a}\")"
   ]
  },
  {
   "cell_type": "markdown",
   "metadata": {},
   "source": [
    "### Finally, let's download an example NUV dataset using astroquery in this more condensed form"
   ]
  },
  {
   "cell_type": "code",
   "execution_count": null,
   "metadata": {},
   "outputs": [],
   "source": [
    "nuv_x1dsum_g230l = Path(Observations.download_products(\n",
    "    Observations.filter_products(\n",
    "        Observations.get_product_list(\n",
    "            Observations.query_criteria(\n",
    "                obs_id = 'lbbd01020'\n",
    "            )\n",
    "        ),\n",
    "        productSubGroupDescription=[\"X1DSUM\"]\n",
    "    )[0]\n",
    ")[\"Local Path\"][0])\n",
    "\n",
    "nuv_x1dsum_g185m = Path(Observations.download_products(\n",
    "    Observations.filter_products(\n",
    "        Observations.get_product_list(\n",
    "            Observations.query_criteria(\n",
    "                obs_id = 'LAAD020L0'\n",
    "            )\n",
    "        ),\n",
    "        productSubGroupDescription=[\"X1DSUM\"]\n",
    "    )[0]\n",
    ")[\"Local Path\"][0])"
   ]
  },
  {
   "cell_type": "markdown",
   "metadata": {},
   "source": [
    "## Examining the data products\n",
    "\n",
    "### The RAW and CORR Data:"
   ]
  },
  {
   "cell_type": "code",
   "execution_count": null,
   "metadata": {},
   "outputs": [],
   "source": [
    "hdr0 = fits.getheader(rawtag_a)\n",
    "hdr1 = fits.getheader(rawtag_a, ext=1)\n",
    "print(f\"This is a {hdr1['EXPTIME']} second exposure on segment {hdr0['SEGMENT']} with the {hdr0['OPT_ELEM']} grating and the {hdr0['CENTRWV']} Å central wavelength setting.\")\n",
    "\n",
    "# My favorite way to read in FITS data - there are others!\n",
    "raw_data = Table.read(rawtag_a, hdu=1)\n",
    "corr_data = Table.read(corrtag_a, hdu=1)"
   ]
  },
  {
   "cell_type": "markdown",
   "metadata": {},
   "source": [
    "We can look at a few of the counts to see how the data table is formatted.\n",
    "* First the RAW data\n",
    "* Second the CORR data\n",
    "  * Here th XFULL and YFULL are the fully corrected locations on the detector."
   ]
  },
  {
   "cell_type": "code",
   "execution_count": null,
   "metadata": {},
   "outputs": [],
   "source": [
    "raw_data[:10]"
   ]
  },
  {
   "cell_type": "code",
   "execution_count": null,
   "metadata": {},
   "outputs": [],
   "source": [
    "corr_data[:10]"
   ]
  },
  {
   "cell_type": "markdown",
   "metadata": {},
   "source": [
    "### Let's take a look at how the counts fell on the detector."
   ]
  },
  {
   "cell_type": "code",
   "execution_count": null,
   "metadata": {},
   "outputs": [],
   "source": [
    "# So this runs quickly, limit to first 80k counts\n",
    "fig = go.Figure()\n",
    "fig.add_trace(\n",
    "    go.Scattergl(\n",
    "        x=raw_data[\"RAWX\"][:80000].astype(float),\n",
    "        y=raw_data[\"RAWY\"][:80000].astype(float),\n",
    "        mode=\"markers\",\n",
    "        name=\"RAWTAG Data\"\n",
    "    )\n",
    ")\n",
    "fig.add_trace(\n",
    "    go.Scattergl(\n",
    "    x=corr_data[\"XFULL\"][:80000].astype(float),\n",
    "    y=corr_data[\"YFULL\"][:80000].astype(float),\n",
    "        mode=\"markers\",\n",
    "        name=\"CORRTAG Data\"\n",
    "    )\n",
    ")\n",
    "\n",
    "fig.update_layout(\n",
    "    title=\"Looking at the raw and corrected counts\",\n",
    "    xaxis_title=\"Detector X Coordinates\",\n",
    "    yaxis_title=\"Detector Y Coordinates\",\n",
    "    legend_title=\"Data type\"\n",
    ")"
   ]
  },
  {
   "cell_type": "markdown",
   "metadata": {},
   "source": [
    "The power of this type of \"`TIME-TAG`\"data is that we have more control and information on each individual photon encounter. Because of this we have the ability to...\n",
    "* Remove suspected noise\n",
    "* Filter out \"bad\" time intervals\n",
    "  * i.e. to remove data taken when the sun was \"up\" for HST [see DayNight.ipynb](https://spacetelescope.github.io/COS-Notebooks/DayNight.html)\n",
    "* Split apart our data and examine it at different times\n",
    "  * i.e. for a transit [see SplitTag.ipynb](https://spacetelescope.github.io/COS-Notebooks/SplitTag.html)\n",
    "\n",
    "![Illustrating the above processes](figures/splittagdaynightfigpic.png \"Illustrating the above processes\")"
   ]
  },
  {
   "cell_type": "markdown",
   "metadata": {},
   "source": [
    "### Now let's examine the FUV spectrum"
   ]
  },
  {
   "cell_type": "code",
   "execution_count": null,
   "metadata": {},
   "outputs": [],
   "source": [
    "for fuv_x1d in fuv_x1dsum_products:\n",
    "    hdr0 = fits.getheader(fuv_x1d)\n",
    "    hdr1 = fits.getheader(fuv_x1d, ext=1)\n",
    "    print(f\"{hdr0['ASN_ID']} is a {hdr1['EXPTIME']} second (combined) exposure with the {hdr0['OPT_ELEM']} grating and the {hdr0['CENTRWV']} Å central wavelength setting.\")"
   ]
  },
  {
   "cell_type": "markdown",
   "metadata": {},
   "source": [
    "### We'll look at the structure of the first (G130M) spectrum:\n",
    "* We note there are two rows for each of the segments of the detector\n",
    "  * If we want to plot, we'll need to deal with each of these segments separately\n",
    "* For NUV data, there are three rows for each \"Data stripe\""
   ]
  },
  {
   "cell_type": "code",
   "execution_count": null,
   "metadata": {},
   "outputs": [],
   "source": [
    "fuv_g130m = Table.read(fuv_x1dsum_products[0])\n",
    "fuv_g130m"
   ]
  },
  {
   "cell_type": "code",
   "execution_count": null,
   "metadata": {},
   "outputs": [],
   "source": [
    "# Set up the plot as a single box with size of 10x4 inches, and with a dpi of 100, relevant should we choose to save it:\n",
    "fig1, ax = plt.subplots(1,1,figsize=(10,4), dpi = 200)  \n",
    "\n",
    "# The next few lines are the core of the cell, where we actually place the data onto the plot:\n",
    "###############\n",
    "# Access each row of data, the longer wvln segment and gets the data we need to plot a spectrum:\n",
    "for i, row in enumerate(fuv_g130m):\n",
    "    wvln, flux, segment  = row[\"WAVELENGTH\", \"FLUX\", \"SEGMENT\"] \n",
    "    ax.plot(wvln, flux, # First two arguments are assumed to be the x-data, y-data\n",
    "            linestyle = \"-\", linewidth = 0.25, c = \"kb\"[i], # These parameters specify the look of the connecting line\n",
    "            marker = '.', markersize = 1, markerfacecolor = 'r', markeredgewidth = 0, # The marker parameters specify how the data points will look... \n",
    "                                                                                    # ... if you don't want dots set marker = ''\n",
    "            label = segment) # The label is an optional parameter which will allow us to create a legend \n",
    "                            # this label is useful when there are multiple datasets on the same plot\n",
    "# The lines after this are all about formatting, adding text, and saving as an image\n",
    "###############\n",
    "ax.set_title(\"G130M COS Spectrum\", size = 20) # Adds a title of fontsize 20 points\n",
    "ax.set_xlabel('Wavelength [$\\AA$]', size = 12) # Adds x axis label\n",
    "ax.set_ylabel('Flux [$erg\\ s^{-1}\\ cm^{-2}\\ Angstrom^{-1}$]', size = 12) # Adds y label\n",
    "\n",
    "plt.legend(loc = 'upper right') # Adds a legend with the label specified in the plotting call\n",
    "plt.tight_layout() # Trims blank space\n",
    "plt.show() # Shows all the plot calls in this cell and \"clears\" the plotting space - must come after any saving you want to do"
   ]
  },
  {
   "cell_type": "code",
   "execution_count": null,
   "metadata": {},
   "outputs": [],
   "source": [
    "# Set up the plot as a single box with size of 10x4 inches, and with a dpi of 100, relevant should we choose to save it:\n",
    "fig1, ax = plt.subplots(1,1,figsize=(10,4), dpi = 100)  \n",
    "\n",
    "# The next few lines are the core of the cell, where we actually place the data onto the plot:\n",
    "###############\n",
    "for j, fuv_file in enumerate(fuv_x1dsum_products):\n",
    "    fuv_tab = Table.read(fuv_file)\n",
    "    data_label = f\"{fits.getval(fuv_file, 'OPT_ELEM')}/{fits.getval(fuv_file, 'CENTRWV'):.0f} \"\n",
    "    for i, row in enumerate(fuv_tab):\n",
    "        wvln, flux, segment  = row[\"WAVELENGTH\", \"FLUX\", \"SEGMENT\"] \n",
    "        ax.plot(wvln, flux, # First two arguments are assumed to be the x-data, y-data\n",
    "                linestyle = \"-\", linewidth = 0.5, c = [\"bg\",\"mk\",\"yc\"][j][i], # These parameters specify the look of the connecting line\n",
    "                marker = '', markersize = 2, markeredgewidth = 0, # The marker parameters specify how the data points will look... \n",
    "                label = data_label+segment, alpha=1-0.1*j)\n",
    "###############\n",
    "ax.set_title(\"G130M+G160M COS Spectrum\", size = 20) # Adds a title of fontsize 20 points\n",
    "ax.set_xlabel('Wavelength [$\\AA$]', size = 12) # Adds x axis label\n",
    "ax.set_ylabel('Flux [$erg\\ s^{-1}\\ cm^{-2}\\ Angstrom^{-1}$]', size = 12) # Adds y label\n",
    "\n",
    "plt.legend(loc = 'upper right') # Adds a legend with the label specified in the plotting call\n",
    "plt.tight_layout() # Trims blank space\n",
    "plt.show() # Shows all the plot calls in this cell and \"clears\" the plotting space - must come after any saving you want to do"
   ]
  },
  {
   "cell_type": "markdown",
   "metadata": {},
   "source": [
    "### Finally let's look at some NUV spectra\n",
    "We'll show the structure of the data, then make some plots"
   ]
  },
  {
   "cell_type": "code",
   "execution_count": null,
   "metadata": {},
   "outputs": [],
   "source": [
    "nuv_tab = Table.read(nuv_x1dsum_g185m)\n",
    "nuv_tab"
   ]
  },
  {
   "cell_type": "markdown",
   "metadata": {},
   "source": [
    "Both spectra are of white dwarf stars\n",
    "1. First the G185M Grating spectrum of GD71\n",
    "2. Second the G230L Grating spectrum of WD1057+719\n",
    "   1. This is a somewhat strange spectrum COS creates with the G230L grating. The first two stripes are (like all other COS spectra) the first order spectrum of the source. The third stripe is dominated by second order light. It's thus more dispersed, has lower S/N, and falls on top of the first (NUVA) stripe."
   ]
  },
  {
   "cell_type": "code",
   "execution_count": null,
   "metadata": {},
   "outputs": [],
   "source": [
    "nuv_tab = Table.read(nuv_x1dsum_g185m)\n",
    "# Set up the plot as a single box with size of 10x4 inches, and with a dpi of 100, relevant should we choose to save it:\n",
    "fig1, ax = plt.subplots(1,1,figsize=(10,4), dpi = 100)  \n",
    "\n",
    "# The next few lines are the core of the cell, where we actually place the data onto the plot:\n",
    "###############\n",
    "# Access each row of data, the longer wvln segment and gets the data we need to plot a spectrum:\n",
    "for i, row in enumerate(nuv_tab):\n",
    "    wvln, flux, segment  = row[\"WAVELENGTH\", \"FLUX\", \"SEGMENT\"] \n",
    "    ax.plot(wvln, flux, # First two arguments are assumed to be the x-data, y-data\n",
    "            linestyle = \"-\", linewidth = 0.25, c = \"kmb\"[i], # These parameters specify the look of the connecting line\n",
    "            marker = '.', markersize = 2, markerfacecolor = 'r', markeredgewidth = 0, # The marker parameters specify how the data points will look... \n",
    "            label = segment)\n",
    "###############\n",
    "ax.set_title(\"G185M NUV COS Spectrum\", size = 20) # Adds a title of fontsize 20 points\n",
    "ax.set_xlabel('Wavelength [$\\AA$]', size = 12) # Adds x axis label\n",
    "ax.set_ylabel('Flux [$erg\\ s^{-1}\\ cm^{-2}\\ Angstrom^{-1}$]', size = 12) # Adds y label\n",
    "\n",
    "plt.legend(loc = 'upper right') # Adds a legend with the label specified in the plotting call\n",
    "plt.tight_layout() # Trims blank space\n",
    "plt.show() # Shows all the plot calls in this cell and \"clears\" the plotting space - must come after any saving you want to do"
   ]
  },
  {
   "cell_type": "markdown",
   "metadata": {},
   "source": [
    "This rather atypical NUV spectrum contains both 1st and 2nd order light from the white dwarf source."
   ]
  },
  {
   "cell_type": "code",
   "execution_count": null,
   "metadata": {},
   "outputs": [],
   "source": [
    "nuv_tab = Table.read(nuv_x1dsum_g230l)\n",
    "# Set up the plot as a single box with size of 10x4 inches, and with a dpi of 100, relevant should we choose to save it:\n",
    "fig1, ax = plt.subplots(1,1,figsize=(10,4), dpi = 100)  \n",
    "\n",
    "# The next few lines are the core of the cell, where we actually place the data onto the plot:\n",
    "###############\n",
    "# Access each row of data, the longer wvln segment and gets the data we need to plot a spectrum:\n",
    "for i, row in enumerate(nuv_tab):\n",
    "    wvln, flux, segment  = row[\"WAVELENGTH\", \"FLUX\", \"SEGMENT\"] \n",
    "    ax.plot(wvln, flux, # First two arguments are assumed to be the x-data, y-data\n",
    "            linestyle = \"-\", linewidth = 0.25, c = \"kmb\"[i], # These parameters specify the look of the connecting line\n",
    "            marker = '.', markersize = 2, markerfacecolor = (1,0,0,0.5), markeredgewidth = 0, # The marker parameters specify how the data points will look... \n",
    "            label = segment)\n",
    "###############\n",
    "ax.set_title(\"G230L NUV COS Spectrum\", size = 20) # Adds a title of fontsize 20 points\n",
    "ax.set_xlabel('Wavelength [$\\AA$]', size = 12) # Adds x axis label\n",
    "ax.set_ylabel('Flux [$erg\\ s^{-1}\\ cm^{-2}\\ Angstrom^{-1}$]', size = 12) # Adds y label\n",
    "\n",
    "plt.legend(loc = 'upper right') # Adds a legend with the label specified in the plotting call\n",
    "plt.tight_layout() # Trims blank space\n",
    "plt.show() # Shows all the plot calls in this cell and \"clears\" the plotting space - must come after any saving you want to do"
   ]
  }
 ],
 "metadata": {
  "interpreter": {
   "hash": "e5784b3e3be4ffa319eb7c9e4ac489bbbf191ad109372c471204ed1d5c08c61e"
  },
  "kernelspec": {
   "display_name": "Python 3.9.5 ('fs2')",
   "language": "python",
   "name": "python3"
  },
  "language_info": {
   "codemirror_mode": {
    "name": "ipython",
    "version": 3
   },
   "file_extension": ".py",
   "mimetype": "text/x-python",
   "name": "python",
   "nbconvert_exporter": "python",
   "pygments_lexer": "ipython3",
   "version": "3.9.5"
  }
 },
 "nbformat": 4,
 "nbformat_minor": 2
}
